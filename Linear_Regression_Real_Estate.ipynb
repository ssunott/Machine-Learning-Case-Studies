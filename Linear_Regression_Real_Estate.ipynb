{
 "cells": [
  {
   "cell_type": "markdown",
   "metadata": {
    "id": "2-Gwity-gHiz"
   },
   "source": [
    "# Model Training"
   ]
  },
  {
   "cell_type": "markdown",
   "metadata": {
    "id": "AxNwUIsQgHi0"
   },
   "source": [
    "### scikit - learn\n",
    "\n",
    "https://scikit-learn.org/stable/\n",
    "\n",
    "scikitlearn (sklearn) provides simple and efficient tools for predictive data analysis. It is built on NumPy, SciPy, and matplotlib."
   ]
  },
  {
   "cell_type": "markdown",
   "metadata": {
    "id": "eG6qGnPngHi1"
   },
   "source": [
    "First thing, Import all the libraries"
   ]
  },
  {
   "cell_type": "code",
   "execution_count": 1,
   "metadata": {
    "id": "Vgez9u1EgHi1"
   },
   "outputs": [],
   "source": [
    "import pandas as pd\n",
    "import numpy as np\n",
    "import matplotlib.pyplot as plt\n",
    "%matplotlib inline\n",
    "pd.set_option('display.max_columns', 50)"
   ]
  },
  {
   "cell_type": "code",
   "execution_count": 2,
   "metadata": {
    "colab": {
     "base_uri": "https://localhost:8080/",
     "height": 226
    },
    "id": "dgooU9oygHi1",
    "outputId": "a140c58f-3259-456d-9f3c-2dd65dac72b1",
    "scrolled": true
   },
   "outputs": [
    {
     "data": {
      "text/html": [
       "<div>\n",
       "<style scoped>\n",
       "    .dataframe tbody tr th:only-of-type {\n",
       "        vertical-align: middle;\n",
       "    }\n",
       "\n",
       "    .dataframe tbody tr th {\n",
       "        vertical-align: top;\n",
       "    }\n",
       "\n",
       "    .dataframe thead th {\n",
       "        text-align: right;\n",
       "    }\n",
       "</style>\n",
       "<table border=\"1\" class=\"dataframe\">\n",
       "  <thead>\n",
       "    <tr style=\"text-align: right;\">\n",
       "      <th></th>\n",
       "      <th>price</th>\n",
       "      <th>year_sold</th>\n",
       "      <th>property_tax</th>\n",
       "      <th>insurance</th>\n",
       "      <th>beds</th>\n",
       "      <th>baths</th>\n",
       "      <th>sqft</th>\n",
       "      <th>year_built</th>\n",
       "      <th>lot_size</th>\n",
       "      <th>basement</th>\n",
       "      <th>popular</th>\n",
       "      <th>recession</th>\n",
       "      <th>property_age</th>\n",
       "      <th>property_type_Bunglow</th>\n",
       "      <th>property_type_Condo</th>\n",
       "    </tr>\n",
       "  </thead>\n",
       "  <tbody>\n",
       "    <tr>\n",
       "      <th>0</th>\n",
       "      <td>295850</td>\n",
       "      <td>2013</td>\n",
       "      <td>234</td>\n",
       "      <td>81</td>\n",
       "      <td>1</td>\n",
       "      <td>1</td>\n",
       "      <td>584</td>\n",
       "      <td>2013</td>\n",
       "      <td>0</td>\n",
       "      <td>0</td>\n",
       "      <td>0</td>\n",
       "      <td>1</td>\n",
       "      <td>0</td>\n",
       "      <td>0</td>\n",
       "      <td>1</td>\n",
       "    </tr>\n",
       "    <tr>\n",
       "      <th>1</th>\n",
       "      <td>216500</td>\n",
       "      <td>2006</td>\n",
       "      <td>169</td>\n",
       "      <td>51</td>\n",
       "      <td>1</td>\n",
       "      <td>1</td>\n",
       "      <td>612</td>\n",
       "      <td>1965</td>\n",
       "      <td>0</td>\n",
       "      <td>0</td>\n",
       "      <td>0</td>\n",
       "      <td>0</td>\n",
       "      <td>41</td>\n",
       "      <td>0</td>\n",
       "      <td>1</td>\n",
       "    </tr>\n",
       "    <tr>\n",
       "      <th>2</th>\n",
       "      <td>279900</td>\n",
       "      <td>2012</td>\n",
       "      <td>216</td>\n",
       "      <td>74</td>\n",
       "      <td>1</td>\n",
       "      <td>1</td>\n",
       "      <td>615</td>\n",
       "      <td>1963</td>\n",
       "      <td>0</td>\n",
       "      <td>0</td>\n",
       "      <td>0</td>\n",
       "      <td>1</td>\n",
       "      <td>49</td>\n",
       "      <td>0</td>\n",
       "      <td>1</td>\n",
       "    </tr>\n",
       "    <tr>\n",
       "      <th>3</th>\n",
       "      <td>379900</td>\n",
       "      <td>2005</td>\n",
       "      <td>265</td>\n",
       "      <td>92</td>\n",
       "      <td>1</td>\n",
       "      <td>1</td>\n",
       "      <td>618</td>\n",
       "      <td>2000</td>\n",
       "      <td>33541</td>\n",
       "      <td>1</td>\n",
       "      <td>0</td>\n",
       "      <td>0</td>\n",
       "      <td>5</td>\n",
       "      <td>1</td>\n",
       "      <td>0</td>\n",
       "    </tr>\n",
       "    <tr>\n",
       "      <th>4</th>\n",
       "      <td>340000</td>\n",
       "      <td>2002</td>\n",
       "      <td>88</td>\n",
       "      <td>30</td>\n",
       "      <td>1</td>\n",
       "      <td>1</td>\n",
       "      <td>634</td>\n",
       "      <td>1992</td>\n",
       "      <td>0</td>\n",
       "      <td>0</td>\n",
       "      <td>0</td>\n",
       "      <td>0</td>\n",
       "      <td>10</td>\n",
       "      <td>0</td>\n",
       "      <td>1</td>\n",
       "    </tr>\n",
       "  </tbody>\n",
       "</table>\n",
       "</div>"
      ],
      "text/plain": [
       "    price  year_sold  property_tax  insurance  beds  baths  sqft  year_built  \\\n",
       "0  295850       2013           234         81     1      1   584        2013   \n",
       "1  216500       2006           169         51     1      1   612        1965   \n",
       "2  279900       2012           216         74     1      1   615        1963   \n",
       "3  379900       2005           265         92     1      1   618        2000   \n",
       "4  340000       2002            88         30     1      1   634        1992   \n",
       "\n",
       "   lot_size  basement  popular  recession  property_age  \\\n",
       "0         0         0        0          1             0   \n",
       "1         0         0        0          0            41   \n",
       "2         0         0        0          1            49   \n",
       "3     33541         1        0          0             5   \n",
       "4         0         0        0          0            10   \n",
       "\n",
       "   property_type_Bunglow  property_type_Condo  \n",
       "0                      0                    1  \n",
       "1                      0                    1  \n",
       "2                      0                    1  \n",
       "3                      1                    0  \n",
       "4                      0                    1  "
      ]
     },
     "execution_count": 2,
     "metadata": {},
     "output_type": "execute_result"
    }
   ],
   "source": [
    "# next load the data\n",
    "df = pd.read_csv('final.csv')\n",
    "df.head()"
   ]
  },
  {
   "cell_type": "code",
   "execution_count": 5,
   "metadata": {
    "colab": {
     "base_uri": "https://localhost:8080/",
     "height": 226
    },
    "id": "HrjjVZjVhayp",
    "outputId": "24fedb92-d454-47fe-eef6-0f486b4d301c"
   },
   "outputs": [
    {
     "data": {
      "text/html": [
       "<div>\n",
       "<style scoped>\n",
       "    .dataframe tbody tr th:only-of-type {\n",
       "        vertical-align: middle;\n",
       "    }\n",
       "\n",
       "    .dataframe tbody tr th {\n",
       "        vertical-align: top;\n",
       "    }\n",
       "\n",
       "    .dataframe thead th {\n",
       "        text-align: right;\n",
       "    }\n",
       "</style>\n",
       "<table border=\"1\" class=\"dataframe\">\n",
       "  <thead>\n",
       "    <tr style=\"text-align: right;\">\n",
       "      <th></th>\n",
       "      <th>price</th>\n",
       "      <th>year_sold</th>\n",
       "      <th>property_tax</th>\n",
       "      <th>insurance</th>\n",
       "      <th>beds</th>\n",
       "      <th>baths</th>\n",
       "      <th>sqft</th>\n",
       "      <th>year_built</th>\n",
       "      <th>lot_size</th>\n",
       "      <th>basement</th>\n",
       "      <th>popular</th>\n",
       "      <th>recession</th>\n",
       "      <th>property_age</th>\n",
       "      <th>property_type_Bunglow</th>\n",
       "      <th>property_type_Condo</th>\n",
       "    </tr>\n",
       "  </thead>\n",
       "  <tbody>\n",
       "    <tr>\n",
       "      <th>1855</th>\n",
       "      <td>760000</td>\n",
       "      <td>2008</td>\n",
       "      <td>881</td>\n",
       "      <td>249</td>\n",
       "      <td>5</td>\n",
       "      <td>5</td>\n",
       "      <td>7842</td>\n",
       "      <td>2003</td>\n",
       "      <td>436035</td>\n",
       "      <td>1</td>\n",
       "      <td>0</td>\n",
       "      <td>0</td>\n",
       "      <td>5</td>\n",
       "      <td>1</td>\n",
       "      <td>0</td>\n",
       "    </tr>\n",
       "    <tr>\n",
       "      <th>1856</th>\n",
       "      <td>690000</td>\n",
       "      <td>2015</td>\n",
       "      <td>1553</td>\n",
       "      <td>473</td>\n",
       "      <td>5</td>\n",
       "      <td>6</td>\n",
       "      <td>6501</td>\n",
       "      <td>1956</td>\n",
       "      <td>23086</td>\n",
       "      <td>1</td>\n",
       "      <td>0</td>\n",
       "      <td>0</td>\n",
       "      <td>59</td>\n",
       "      <td>1</td>\n",
       "      <td>0</td>\n",
       "    </tr>\n",
       "    <tr>\n",
       "      <th>1857</th>\n",
       "      <td>600000</td>\n",
       "      <td>1999</td>\n",
       "      <td>942</td>\n",
       "      <td>287</td>\n",
       "      <td>5</td>\n",
       "      <td>6</td>\n",
       "      <td>7064</td>\n",
       "      <td>1995</td>\n",
       "      <td>217800</td>\n",
       "      <td>1</td>\n",
       "      <td>0</td>\n",
       "      <td>0</td>\n",
       "      <td>4</td>\n",
       "      <td>1</td>\n",
       "      <td>0</td>\n",
       "    </tr>\n",
       "    <tr>\n",
       "      <th>1858</th>\n",
       "      <td>759900</td>\n",
       "      <td>2009</td>\n",
       "      <td>803</td>\n",
       "      <td>245</td>\n",
       "      <td>5</td>\n",
       "      <td>6</td>\n",
       "      <td>7500</td>\n",
       "      <td>2006</td>\n",
       "      <td>8886</td>\n",
       "      <td>1</td>\n",
       "      <td>0</td>\n",
       "      <td>0</td>\n",
       "      <td>3</td>\n",
       "      <td>1</td>\n",
       "      <td>0</td>\n",
       "    </tr>\n",
       "    <tr>\n",
       "      <th>1859</th>\n",
       "      <td>735000</td>\n",
       "      <td>2015</td>\n",
       "      <td>1459</td>\n",
       "      <td>444</td>\n",
       "      <td>5</td>\n",
       "      <td>6</td>\n",
       "      <td>7515</td>\n",
       "      <td>1958</td>\n",
       "      <td>10497</td>\n",
       "      <td>1</td>\n",
       "      <td>0</td>\n",
       "      <td>0</td>\n",
       "      <td>57</td>\n",
       "      <td>1</td>\n",
       "      <td>0</td>\n",
       "    </tr>\n",
       "  </tbody>\n",
       "</table>\n",
       "</div>"
      ],
      "text/plain": [
       "       price  year_sold  property_tax  insurance  beds  baths  sqft  \\\n",
       "1855  760000       2008           881        249     5      5  7842   \n",
       "1856  690000       2015          1553        473     5      6  6501   \n",
       "1857  600000       1999           942        287     5      6  7064   \n",
       "1858  759900       2009           803        245     5      6  7500   \n",
       "1859  735000       2015          1459        444     5      6  7515   \n",
       "\n",
       "      year_built  lot_size  basement  popular  recession  property_age  \\\n",
       "1855        2003    436035         1        0          0             5   \n",
       "1856        1956     23086         1        0          0            59   \n",
       "1857        1995    217800         1        0          0             4   \n",
       "1858        2006      8886         1        0          0             3   \n",
       "1859        1958     10497         1        0          0            57   \n",
       "\n",
       "      property_type_Bunglow  property_type_Condo  \n",
       "1855                      1                    0  \n",
       "1856                      1                    0  \n",
       "1857                      1                    0  \n",
       "1858                      1                    0  \n",
       "1859                      1                    0  "
      ]
     },
     "execution_count": 5,
     "metadata": {},
     "output_type": "execute_result"
    }
   ],
   "source": [
    "df.tail()"
   ]
  },
  {
   "cell_type": "code",
   "execution_count": 7,
   "metadata": {
    "colab": {
     "base_uri": "https://localhost:8080/"
    },
    "id": "dow7Zwd4gHi2",
    "outputId": "487b0b52-f5f6-4817-bcf0-6406dd206458"
   },
   "outputs": [
    {
     "data": {
      "text/plain": [
       "(1860, 15)"
      ]
     },
     "execution_count": 7,
     "metadata": {},
     "output_type": "execute_result"
    }
   ],
   "source": [
    "df.shape"
   ]
  },
  {
   "cell_type": "markdown",
   "metadata": {
    "id": "LNMKUIsagHi2"
   },
   "source": [
    "## Linear Regression Model"
   ]
  },
  {
   "cell_type": "code",
   "execution_count": 9,
   "metadata": {
    "id": "HlhhJpV1gHi2"
   },
   "outputs": [],
   "source": [
    "# import linear regression model\n",
    "from sklearn.linear_model import LinearRegression"
   ]
  },
  {
   "cell_type": "code",
   "execution_count": 25,
   "metadata": {
    "id": "kcvqztZ5gHi2"
   },
   "outputs": [],
   "source": [
    "# step 1\n",
    "# seperate input features in x\n",
    "x = df.drop('price', axis=1)\n",
    "\n",
    "# store the target variable in y\n",
    "y = df['price']"
   ]
  },
  {
   "cell_type": "markdown",
   "metadata": {
    "id": "xWoM_0d2gHi2"
   },
   "source": [
    "**Train Test Split**\n",
    "* Training sets are used to fit and tune your models.\n",
    "* Test sets are put aside as \"unseen\" data to evaluate your models.\n",
    "* The `train_test_split()` function splits data into randomized subsets."
   ]
  },
  {
   "cell_type": "code",
   "execution_count": 13,
   "metadata": {
    "id": "vPY9e72sl1dB"
   },
   "outputs": [],
   "source": [
    "# import module\n",
    "from sklearn.model_selection import train_test_split"
   ]
  },
  {
   "cell_type": "code",
   "execution_count": 27,
   "metadata": {
    "colab": {
     "base_uri": "https://localhost:8080/",
     "height": 178
    },
    "id": "cqW-uHMPyBg_",
    "outputId": "d92810a2-af85-4ee4-e691-7205dd56fccb"
   },
   "outputs": [
    {
     "data": {
      "text/plain": [
       "property_type_Bunglow\n",
       "1    1510\n",
       "0     350\n",
       "Name: count, dtype: int64"
      ]
     },
     "execution_count": 27,
     "metadata": {},
     "output_type": "execute_result"
    }
   ],
   "source": [
    "x.property_type_Bunglow.value_counts()"
   ]
  },
  {
   "cell_type": "code",
   "execution_count": 29,
   "metadata": {
    "id": "dZ5ZswxHgHi2"
   },
   "outputs": [],
   "source": [
    "#step 2\n",
    "# Split the dataset\n",
    "x_train, x_test, y_train, y_test = train_test_split(x,y, test_size=0.2, stratify=x.property_type_Bunglow)"
   ]
  },
  {
   "cell_type": "code",
   "execution_count": 31,
   "metadata": {
    "colab": {
     "base_uri": "https://localhost:8080/",
     "height": 226
    },
    "id": "8g-5rzi0m--0",
    "outputId": "57bbc68e-55aa-4ac4-cfa0-11a96fb6bd05",
    "scrolled": true
   },
   "outputs": [
    {
     "data": {
      "text/html": [
       "<div>\n",
       "<style scoped>\n",
       "    .dataframe tbody tr th:only-of-type {\n",
       "        vertical-align: middle;\n",
       "    }\n",
       "\n",
       "    .dataframe tbody tr th {\n",
       "        vertical-align: top;\n",
       "    }\n",
       "\n",
       "    .dataframe thead th {\n",
       "        text-align: right;\n",
       "    }\n",
       "</style>\n",
       "<table border=\"1\" class=\"dataframe\">\n",
       "  <thead>\n",
       "    <tr style=\"text-align: right;\">\n",
       "      <th></th>\n",
       "      <th>year_sold</th>\n",
       "      <th>property_tax</th>\n",
       "      <th>insurance</th>\n",
       "      <th>beds</th>\n",
       "      <th>baths</th>\n",
       "      <th>sqft</th>\n",
       "      <th>year_built</th>\n",
       "      <th>lot_size</th>\n",
       "      <th>basement</th>\n",
       "      <th>popular</th>\n",
       "      <th>recession</th>\n",
       "      <th>property_age</th>\n",
       "      <th>property_type_Bunglow</th>\n",
       "      <th>property_type_Condo</th>\n",
       "    </tr>\n",
       "  </thead>\n",
       "  <tbody>\n",
       "    <tr>\n",
       "      <th>314</th>\n",
       "      <td>2012</td>\n",
       "      <td>245</td>\n",
       "      <td>75</td>\n",
       "      <td>2</td>\n",
       "      <td>2</td>\n",
       "      <td>1470</td>\n",
       "      <td>1986</td>\n",
       "      <td>0</td>\n",
       "      <td>0</td>\n",
       "      <td>1</td>\n",
       "      <td>1</td>\n",
       "      <td>26</td>\n",
       "      <td>0</td>\n",
       "      <td>1</td>\n",
       "    </tr>\n",
       "    <tr>\n",
       "      <th>1167</th>\n",
       "      <td>2005</td>\n",
       "      <td>458</td>\n",
       "      <td>152</td>\n",
       "      <td>4</td>\n",
       "      <td>3</td>\n",
       "      <td>1374</td>\n",
       "      <td>1959</td>\n",
       "      <td>8093</td>\n",
       "      <td>1</td>\n",
       "      <td>0</td>\n",
       "      <td>0</td>\n",
       "      <td>46</td>\n",
       "      <td>1</td>\n",
       "      <td>0</td>\n",
       "    </tr>\n",
       "    <tr>\n",
       "      <th>817</th>\n",
       "      <td>2003</td>\n",
       "      <td>418</td>\n",
       "      <td>127</td>\n",
       "      <td>3</td>\n",
       "      <td>3</td>\n",
       "      <td>1885</td>\n",
       "      <td>1990</td>\n",
       "      <td>2718</td>\n",
       "      <td>1</td>\n",
       "      <td>0</td>\n",
       "      <td>0</td>\n",
       "      <td>13</td>\n",
       "      <td>1</td>\n",
       "      <td>0</td>\n",
       "    </tr>\n",
       "    <tr>\n",
       "      <th>1761</th>\n",
       "      <td>2011</td>\n",
       "      <td>409</td>\n",
       "      <td>116</td>\n",
       "      <td>5</td>\n",
       "      <td>4</td>\n",
       "      <td>3992</td>\n",
       "      <td>2005</td>\n",
       "      <td>10454</td>\n",
       "      <td>1</td>\n",
       "      <td>0</td>\n",
       "      <td>1</td>\n",
       "      <td>6</td>\n",
       "      <td>1</td>\n",
       "      <td>0</td>\n",
       "    </tr>\n",
       "    <tr>\n",
       "      <th>1270</th>\n",
       "      <td>2009</td>\n",
       "      <td>532</td>\n",
       "      <td>162</td>\n",
       "      <td>4</td>\n",
       "      <td>3</td>\n",
       "      <td>2400</td>\n",
       "      <td>1970</td>\n",
       "      <td>11325</td>\n",
       "      <td>1</td>\n",
       "      <td>0</td>\n",
       "      <td>0</td>\n",
       "      <td>39</td>\n",
       "      <td>1</td>\n",
       "      <td>0</td>\n",
       "    </tr>\n",
       "  </tbody>\n",
       "</table>\n",
       "</div>"
      ],
      "text/plain": [
       "      year_sold  property_tax  insurance  beds  baths  sqft  year_built  \\\n",
       "314        2012           245         75     2      2  1470        1986   \n",
       "1167       2005           458        152     4      3  1374        1959   \n",
       "817        2003           418        127     3      3  1885        1990   \n",
       "1761       2011           409        116     5      4  3992        2005   \n",
       "1270       2009           532        162     4      3  2400        1970   \n",
       "\n",
       "      lot_size  basement  popular  recession  property_age  \\\n",
       "314          0         0        1          1            26   \n",
       "1167      8093         1        0          0            46   \n",
       "817       2718         1        0          0            13   \n",
       "1761     10454         1        0          1             6   \n",
       "1270     11325         1        0          0            39   \n",
       "\n",
       "      property_type_Bunglow  property_type_Condo  \n",
       "314                       0                    1  \n",
       "1167                      1                    0  \n",
       "817                       1                    0  \n",
       "1761                      1                    0  \n",
       "1270                      1                    0  "
      ]
     },
     "execution_count": 31,
     "metadata": {},
     "output_type": "execute_result"
    }
   ],
   "source": [
    "x_train.head()"
   ]
  },
  {
   "cell_type": "code",
   "execution_count": 33,
   "metadata": {},
   "outputs": [
    {
     "data": {
      "text/plain": [
       "property_type_Bunglow\n",
       "1    1208\n",
       "0     280\n",
       "Name: count, dtype: int64"
      ]
     },
     "execution_count": 33,
     "metadata": {},
     "output_type": "execute_result"
    }
   ],
   "source": [
    "x_train.property_type_Bunglow.value_counts()"
   ]
  },
  {
   "cell_type": "code",
   "execution_count": 35,
   "metadata": {
    "colab": {
     "base_uri": "https://localhost:8080/"
    },
    "id": "-Sdke-9lgHi3",
    "outputId": "3e1af4ad-7b6e-4010-d293-6657037d1657"
   },
   "outputs": [
    {
     "data": {
      "text/plain": [
       "((1488, 14), (1488,), (372, 14), (372,))"
      ]
     },
     "execution_count": 35,
     "metadata": {},
     "output_type": "execute_result"
    }
   ],
   "source": [
    "x_train.shape, y_train.shape, x_test.shape, y_test.shape"
   ]
  },
  {
   "cell_type": "code",
   "execution_count": 37,
   "metadata": {
    "id": "7HmY2tb6oQiu"
   },
   "outputs": [],
   "source": [
    "#step 3\n",
    "# train your model\n",
    "model = LinearRegression()\n",
    "lrmodel = model.fit(x_train, y_train)"
   ]
  },
  {
   "cell_type": "code",
   "execution_count": 39,
   "metadata": {
    "colab": {
     "base_uri": "https://localhost:8080/"
    },
    "id": "k4YUaEHooyCo",
    "outputId": "e4f03ed6-00d1-42fb-8a7e-887e7c352bda"
   },
   "outputs": [
    {
     "data": {
      "text/plain": [
       "array([ 7.75571814e+03, -5.40103383e+02,  2.63971921e+03,  5.24389857e+03,\n",
       "        5.07523791e+03,  3.13589668e+01,  4.23667516e+03,  1.46538177e-01,\n",
       "        1.07631980e+04,  7.40599835e+03, -5.01861844e+04,  3.51904298e+03,\n",
       "        1.07631980e+04, -1.07631980e+04])"
      ]
     },
     "execution_count": 39,
     "metadata": {},
     "output_type": "execute_result"
    }
   ],
   "source": [
    "lrmodel.coef_"
   ]
  },
  {
   "cell_type": "code",
   "execution_count": 41,
   "metadata": {
    "colab": {
     "base_uri": "https://localhost:8080/"
    },
    "id": "ELiVZxw4o83i",
    "outputId": "ca9d9f6a-941d-4f75-f42b-a24a81c4b766"
   },
   "outputs": [
    {
     "data": {
      "text/plain": [
       "-23853327.390769698"
      ]
     },
     "execution_count": 41,
     "metadata": {},
     "output_type": "execute_result"
    }
   ],
   "source": [
    "lrmodel.intercept_"
   ]
  },
  {
   "cell_type": "code",
   "execution_count": 43,
   "metadata": {
    "colab": {
     "base_uri": "https://localhost:8080/",
     "height": 100
    },
    "id": "hlLsxUmepMha",
    "outputId": "2c993c6b-1cb7-4694-e18b-6318d30cb780"
   },
   "outputs": [
    {
     "data": {
      "text/html": [
       "<div>\n",
       "<style scoped>\n",
       "    .dataframe tbody tr th:only-of-type {\n",
       "        vertical-align: middle;\n",
       "    }\n",
       "\n",
       "    .dataframe tbody tr th {\n",
       "        vertical-align: top;\n",
       "    }\n",
       "\n",
       "    .dataframe thead th {\n",
       "        text-align: right;\n",
       "    }\n",
       "</style>\n",
       "<table border=\"1\" class=\"dataframe\">\n",
       "  <thead>\n",
       "    <tr style=\"text-align: right;\">\n",
       "      <th></th>\n",
       "      <th>year_sold</th>\n",
       "      <th>property_tax</th>\n",
       "      <th>insurance</th>\n",
       "      <th>beds</th>\n",
       "      <th>baths</th>\n",
       "      <th>sqft</th>\n",
       "      <th>year_built</th>\n",
       "      <th>lot_size</th>\n",
       "      <th>basement</th>\n",
       "      <th>popular</th>\n",
       "      <th>recession</th>\n",
       "      <th>property_age</th>\n",
       "      <th>property_type_Bunglow</th>\n",
       "      <th>property_type_Condo</th>\n",
       "    </tr>\n",
       "  </thead>\n",
       "  <tbody>\n",
       "    <tr>\n",
       "      <th>314</th>\n",
       "      <td>2012</td>\n",
       "      <td>245</td>\n",
       "      <td>75</td>\n",
       "      <td>2</td>\n",
       "      <td>2</td>\n",
       "      <td>1470</td>\n",
       "      <td>1986</td>\n",
       "      <td>0</td>\n",
       "      <td>0</td>\n",
       "      <td>1</td>\n",
       "      <td>1</td>\n",
       "      <td>26</td>\n",
       "      <td>0</td>\n",
       "      <td>1</td>\n",
       "    </tr>\n",
       "  </tbody>\n",
       "</table>\n",
       "</div>"
      ],
      "text/plain": [
       "     year_sold  property_tax  insurance  beds  baths  sqft  year_built  \\\n",
       "314       2012           245         75     2      2  1470        1986   \n",
       "\n",
       "     lot_size  basement  popular  recession  property_age  \\\n",
       "314         0         0        1          1            26   \n",
       "\n",
       "     property_type_Bunglow  property_type_Condo  \n",
       "314                      0                    1  "
      ]
     },
     "execution_count": 43,
     "metadata": {},
     "output_type": "execute_result"
    }
   ],
   "source": [
    "x_train.head(1)"
   ]
  },
  {
   "cell_type": "code",
   "execution_count": 51,
   "metadata": {
    "id": "ltA5svVPgHi3"
   },
   "outputs": [],
   "source": [
    "#step 4\n",
    "# make preditions on train set\n",
    "train_pred = lrmodel.predict(x_train)"
   ]
  },
  {
   "cell_type": "code",
   "execution_count": 55,
   "metadata": {
    "colab": {
     "base_uri": "https://localhost:8080/"
    },
    "id": "DpfRFf9-phrB",
    "outputId": "b32e6231-822e-482f-972d-69bc8b0504ec"
   },
   "outputs": [
    {
     "data": {
      "text/plain": [
       "(1488,)"
      ]
     },
     "execution_count": 55,
     "metadata": {},
     "output_type": "execute_result"
    }
   ],
   "source": [
    "train_pred"
   ]
  },
  {
   "cell_type": "code",
   "execution_count": 49,
   "metadata": {
    "colab": {
     "base_uri": "https://localhost:8080/"
    },
    "id": "ZOKrwPAngHi3",
    "outputId": "bf272fa9-ea3b-48f9-fe97-1848cca587a8"
   },
   "outputs": [
    {
     "name": "stdout",
     "output_type": "stream",
     "text": [
      "Train error is 86634.69445438856\n"
     ]
    }
   ],
   "source": [
    "#step 5\n",
    "# evaluate your model\n",
    "# we need mean absolute error\n",
    "from sklearn.metrics import mean_absolute_error\n",
    "\n",
    "train_mae = mean_absolute_error(train_pred, y_train)\n",
    "print('Train error is', train_mae)"
   ]
  },
  {
   "cell_type": "code",
   "execution_count": null,
   "metadata": {
    "id": "lGdW7XTDgHi3",
    "outputId": "5831f2c7-38f4-4384-9ee1-4079cb81a403"
   },
   "outputs": [
    {
     "data": {
      "text/plain": [
       "array([ 7.92898177e+03, -4.22689266e+02,  2.24606761e+03,  3.64530650e+03,\n",
       "        7.46225466e+03,  2.81854446e+01,  4.39746517e+03,  1.69254225e-01,\n",
       "       -1.00734187e+04, -7.90752462e+03, -4.98164171e+04,  3.53151659e+03,\n",
       "       -2.85853946e+04])"
      ]
     },
     "execution_count": 23,
     "metadata": {},
     "output_type": "execute_result"
    }
   ],
   "source": [
    "lrmodel.coef_"
   ]
  },
  {
   "cell_type": "code",
   "execution_count": 57,
   "metadata": {
    "id": "75iRpl6OgHi3",
    "outputId": "22535a31-76a3-4777-86a2-af36c751b5f3"
   },
   "outputs": [
    {
     "data": {
      "text/plain": [
       "-23853327.390769698"
      ]
     },
     "execution_count": 57,
     "metadata": {},
     "output_type": "execute_result"
    }
   ],
   "source": [
    "lrmodel.intercept_"
   ]
  },
  {
   "cell_type": "code",
   "execution_count": 59,
   "metadata": {
    "colab": {
     "base_uri": "https://localhost:8080/"
    },
    "id": "fa4G_u9CgHi3",
    "outputId": "f2e658c3-d0ff-4d91-f76c-cd4b50051200"
   },
   "outputs": [
    {
     "name": "stdout",
     "output_type": "stream",
     "text": [
      "Test error is 83550.9715285614\n"
     ]
    }
   ],
   "source": [
    "# make predictions om test set\n",
    "ypred = lrmodel.predict(x_test)\n",
    "\n",
    "#evaluate the model\n",
    "test_mae = mean_absolute_error(ypred, y_test)\n",
    "print('Test error is', test_mae)"
   ]
  },
  {
   "cell_type": "markdown",
   "metadata": {
    "id": "JgYmClmIgHi3"
   },
   "source": [
    "### Our model is still not good beacuse we need a model with Mean Absolute Error < $70,000\n",
    "\n",
    "Note - We have not scaled the features and not tuned the model."
   ]
  },
  {
   "cell_type": "markdown",
   "metadata": {
    "id": "oi76fp2bgHi3"
   },
   "source": [
    "    "
   ]
  },
  {
   "cell_type": "markdown",
   "metadata": {
    "id": "qiowj-owgHi3"
   },
   "source": [
    "## Decision Tree Model"
   ]
  },
  {
   "cell_type": "code",
   "execution_count": 31,
   "metadata": {
    "id": "vlRpZFYugHi3"
   },
   "outputs": [],
   "source": [
    "# import decision tree model\n",
    "from sklearn.tree import DecisionTreeRegressor"
   ]
  },
  {
   "cell_type": "code",
   "execution_count": 32,
   "metadata": {
    "id": "l8IAvOqxgHi3"
   },
   "outputs": [],
   "source": [
    "# create an instance of the class\n",
    "dt = DecisionTreeRegressor(max_depth=3, max_features=10, random_state=567)"
   ]
  },
  {
   "cell_type": "code",
   "execution_count": 33,
   "metadata": {
    "id": "W7TIvQCOgHi3"
   },
   "outputs": [],
   "source": [
    "# train the model\n",
    "dtmodel = dt.fit(x_train,y_train)"
   ]
  },
  {
   "cell_type": "code",
   "execution_count": 39,
   "metadata": {
    "colab": {
     "base_uri": "https://localhost:8080/"
    },
    "id": "rD8Ulq3Mv4Y5",
    "outputId": "228ea9c2-9b83-47d3-db0e-2cc7b1aeafb5"
   },
   "outputs": [
    {
     "data": {
      "text/plain": [
       "61653.68949055864"
      ]
     },
     "execution_count": 39,
     "metadata": {},
     "output_type": "execute_result"
    }
   ],
   "source": [
    "# make predictions using the test set\n",
    "ytrain_pred = dtmodel.predict(x_train)\n",
    "\n",
    "# evaluate the model\n",
    "train_mae = mean_absolute_error(ytrain_pred, y_train)\n",
    "train_mae"
   ]
  },
  {
   "cell_type": "code",
   "execution_count": 35,
   "metadata": {
    "id": "9fu7mNEogHi4"
   },
   "outputs": [],
   "source": [
    "# make predictions using the test set\n",
    "ytest_pred = dtmodel.predict(x_test)"
   ]
  },
  {
   "cell_type": "code",
   "execution_count": 36,
   "metadata": {
    "colab": {
     "base_uri": "https://localhost:8080/"
    },
    "id": "9oABxlOjgHi4",
    "outputId": "5a5d7158-00c9-4826-d780-4b6a66fdf733"
   },
   "outputs": [
    {
     "data": {
      "text/plain": [
       "58591.69255181888"
      ]
     },
     "execution_count": 36,
     "metadata": {},
     "output_type": "execute_result"
    }
   ],
   "source": [
    "# evaluate the model\n",
    "test_mae = mean_absolute_error(ytest_pred, y_test)\n",
    "test_mae"
   ]
  },
  {
   "cell_type": "markdown",
   "metadata": {
    "id": "280fV8jJgHi4"
   },
   "source": [
    "## How do I know if my model is Overfitting or Generalised?"
   ]
  },
  {
   "cell_type": "code",
   "execution_count": null,
   "metadata": {
    "id": "Jdl2kpwJgHi4"
   },
   "outputs": [],
   "source": [
    "# make predictions on train set\n",
    "ytrain_pred = dtmodel.predict(x_train)"
   ]
  },
  {
   "cell_type": "code",
   "execution_count": null,
   "metadata": {
    "id": "1xRtK9yCgHi4",
    "outputId": "aa67bd18-7195-4838-9ddc-5b20e058f785"
   },
   "outputs": [
    {
     "data": {
      "text/plain": [
       "65141.146705895575"
      ]
     },
     "execution_count": 54,
     "metadata": {},
     "output_type": "execute_result"
    }
   ],
   "source": [
    "# import mean absolute error metric\n",
    "from sklearn.metrics import mean_absolute_error\n",
    "\n",
    "# evaluate the model\n",
    "train_mae = mean_absolute_error(ytrain_pred, y_train)\n",
    "train_mae"
   ]
  },
  {
   "cell_type": "markdown",
   "metadata": {
    "id": "LCySzmV3gHi4"
   },
   "source": [
    "    "
   ]
  },
  {
   "cell_type": "markdown",
   "metadata": {
    "id": "d19VdhMsgHi4"
   },
   "source": [
    "## Plot the tree"
   ]
  },
  {
   "cell_type": "code",
   "execution_count": null,
   "metadata": {
    "id": "wdxw0gEpgHi4",
    "outputId": "ceba52c7-7f3d-4f52-f6f1-0fa0c4dc0324"
   },
   "outputs": [
    {
     "data": {
      "text/plain": [
       "array(['year_sold', 'property_tax', 'insurance', 'beds', 'baths', 'sqft',\n",
       "       'year_built', 'lot_size', 'basement', 'popular', 'recession',\n",
       "       'property_age', 'property_type_Condo'], dtype=object)"
      ]
     },
     "execution_count": 80,
     "metadata": {},
     "output_type": "execute_result"
    }
   ],
   "source": [
    "# get the features\n",
    "dtmodel.feature_names_in_"
   ]
  },
  {
   "cell_type": "code",
   "execution_count": null,
   "metadata": {
    "id": "-kq6OpkBgHi4",
    "outputId": "e5ac2d44-301d-4128-f646-7d00fa3fa1f8"
   },
   "outputs": [
    {
     "data": {
      "image/png": "[encoded data removed]",
      "text/plain": [
       "<Figure size 432x288 with 1 Axes>"
      ]
     },
     "metadata": {
      "needs_background": "light"
     },
     "output_type": "display_data"
    }
   ],
   "source": [
    "# plot the tree\n",
    "from sklearn import tree\n",
    "\n",
    "# Plot the tree with feature names\n",
    "tree.plot_tree(dtmodel, feature_names=dtmodel.feature_names_in_)\n",
    "\n",
    "#tree.plot_tree(dtmodel)\n",
    "#plt.show(dpi=300)\n",
    "\n",
    "# Save the plot to a file\n",
    "plt.savefig('tree.png', dpi=300)"
   ]
  },
  {
   "cell_type": "markdown",
   "metadata": {
    "id": "15XUHv9QgHi4"
   },
   "source": [
    "    "
   ]
  },
  {
   "cell_type": "markdown",
   "metadata": {
    "id": "q8wqXk2ugHi4"
   },
   "source": [
    "    "
   ]
  },
  {
   "cell_type": "markdown",
   "metadata": {
    "id": "Yx6yqdfpgHi4"
   },
   "source": [
    "    "
   ]
  },
  {
   "cell_type": "markdown",
   "metadata": {
    "id": "EjN-nxzEgHi4"
   },
   "source": [
    "## Random Forest Model"
   ]
  },
  {
   "cell_type": "code",
   "execution_count": null,
   "metadata": {
    "id": "RkCzXpLtgHi4"
   },
   "outputs": [],
   "source": [
    "# import decision tree model\n",
    "from sklearn.ensemble import RandomForestRegressor"
   ]
  },
  {
   "cell_type": "code",
   "execution_count": null,
   "metadata": {
    "id": "UDqTPGiegHi4"
   },
   "outputs": [],
   "source": [
    "# create an instance of the model\n",
    "rf = RandomForestRegressor(n_estimators=200, criterion='absolute_error')"
   ]
  },
  {
   "cell_type": "code",
   "execution_count": null,
   "metadata": {
    "id": "oG__jXNegHi4"
   },
   "outputs": [],
   "source": [
    "# train the model\n",
    "rfmodel = rf.fit(x_train,y_train)"
   ]
  },
  {
   "cell_type": "code",
   "execution_count": null,
   "metadata": {
    "id": "UgTc0Er-gHi8"
   },
   "outputs": [],
   "source": [
    "# make prediction on train set\n",
    "ytrain_pred = rfmodel.predict(x_train)"
   ]
  },
  {
   "cell_type": "code",
   "execution_count": null,
   "metadata": {
    "id": "1miSLAHkgHi8"
   },
   "outputs": [],
   "source": [
    "# make predictions on the x_test values\n",
    "ytest_pred = rfmodel.predict(x_test)"
   ]
  },
  {
   "cell_type": "code",
   "execution_count": null,
   "metadata": {
    "id": "nTH6sOeAgHi8",
    "outputId": "7f2c3f10-4148-4eaf-f051-afccd71da6bb"
   },
   "outputs": [
    {
     "data": {
      "text/plain": [
       "42766.2177613941"
      ]
     },
     "execution_count": 90,
     "metadata": {},
     "output_type": "execute_result"
    }
   ],
   "source": [
    "# evaluate the model\n",
    "test_mae = mean_absolute_error(ytest_pred, y_test)\n",
    "test_mae"
   ]
  },
  {
   "cell_type": "code",
   "execution_count": null,
   "metadata": {
    "id": "u10aeWWxgHi9"
   },
   "outputs": [],
   "source": [
    "# Individual Decision Trees\n",
    "# tree.plot_tree(rfmodel.estimators_[2], feature_names=dtmodel.feature_names_in_)"
   ]
  },
  {
   "cell_type": "markdown",
   "metadata": {
    "id": "tc8OXZNzgHi9"
   },
   "source": [
    "    "
   ]
  },
  {
   "cell_type": "markdown",
   "metadata": {
    "id": "vVZsubYogHi9"
   },
   "source": [
    "## Pickle:\n",
    "\n",
    "* The pickle module implements a powerful algorithm for serializing and de-serializing a Python object structure.\n",
    "\n",
    "* The saving of data is called Serialization, and loading the data is called De-serialization.\n",
    "\n",
    "**Pickle** model provides the following functions:\n",
    "* **`pickle.dump`** to serialize an object hierarchy, you simply use `dump()`.\n",
    "* **`pickle.load`** to deserialize a data stream, you call the `loads()` function."
   ]
  },
  {
   "cell_type": "code",
   "execution_count": 40,
   "metadata": {
    "id": "WmM7wJIbgHi9"
   },
   "outputs": [],
   "source": [
    "# import pickle to save model\n",
    "import pickle\n",
    "\n",
    "# Save the trained model on the drive\n",
    "pickle.dump(dtmodel, open('RE_Model','wb'))"
   ]
  },
  {
   "cell_type": "code",
   "execution_count": null,
   "metadata": {
    "id": "smF0TQ66gHi9"
   },
   "outputs": [],
   "source": [
    "# Load the pickled model\n",
    "RE_Model = pickle.load(open('RE_Model','rb'))"
   ]
  },
  {
   "cell_type": "raw",
   "metadata": {
    "id": "dzEe7uzvgHi9"
   },
   "source": [
    "np.array(xtrain.loc[22])\n",
    "ytrain[22]"
   ]
  },
  {
   "cell_type": "code",
   "execution_count": null,
   "metadata": {
    "id": "81ZVX-LRgHi9",
    "outputId": "0e7e668b-83dd-4620-e147-5e90e2759788"
   },
   "outputs": [
    {
     "name": "stderr",
     "output_type": "stream",
     "text": [
      "C:\\Users\\KANGRSW\\Anaconda3\\lib\\site-packages\\sklearn\\base.py:450: UserWarning: X does not have valid feature names, but RandomForestRegressor was fitted with feature names\n"
     ]
    },
    {
     "data": {
      "text/plain": [
       "array([258697.91])"
      ]
     },
     "execution_count": 99,
     "metadata": {},
     "output_type": "execute_result"
    }
   ],
   "source": [
    "# Use the loaded pickled model to make predictions\n",
    "RE_Model.predict([[2012, 216, 74, 1 , 1, 618, 2000, 600, 1, 0, 0, 6, 0]])"
   ]
  },
  {
   "cell_type": "code",
   "execution_count": 41,
   "metadata": {
    "colab": {
     "base_uri": "https://localhost:8080/",
     "height": 100
    },
    "id": "R7EWTeTtxQy4",
    "outputId": "b16e559d-25db-46a2-b095-08237ef5caab"
   },
   "outputs": [
    {
     "data": {
      "application/vnd.google.colaboratory.intrinsic+json": {
       "summary": "{\n  \"name\": \"x_test\",\n  \"rows\": 373,\n  \"fields\": [\n    {\n      \"column\": \"year_sold\",\n      \"properties\": {\n        \"dtype\": \"number\",\n        \"std\": 5,\n        \"min\": 1993,\n        \"max\": 2016,\n        \"num_unique_values\": 24,\n        \"samples\": [\n          2001,\n          2003,\n          2013\n        ],\n        \"semantic_type\": \"\",\n        \"description\": \"\"\n      }\n    },\n    {\n      \"column\": \"property_tax\",\n      \"properties\": {\n        \"dtype\": \"number\",\n        \"std\": 202,\n        \"min\": 147,\n        \"max\": 1553,\n        \"num_unique_values\": 239,\n        \"samples\": [\n          860,\n          364,\n          655\n        ],\n        \"semantic_type\": \"\",\n        \"description\": \"\"\n      }\n    },\n    {\n      \"column\": \"insurance\",\n      \"properties\": {\n        \"dtype\": \"number\",\n        \"std\": 64,\n        \"min\": 47,\n        \"max\": 524,\n        \"num_unique_values\": 150,\n        \"samples\": [\n          161,\n          172,\n          148\n        ],\n        \"semantic_type\": \"\",\n        \"description\": \"\"\n      }\n    },\n    {\n      \"column\": \"beds\",\n      \"properties\": {\n        \"dtype\": \"number\",\n        \"std\": 1,\n        \"min\": 1,\n        \"max\": 5,\n        \"num_unique_values\": 5,\n        \"samples\": [\n          3,\n          5,\n          4\n        ],\n        \"semantic_type\": \"\",\n        \"description\": \"\"\n      }\n    },\n    {\n      \"column\": \"baths\",\n      \"properties\": {\n        \"dtype\": \"number\",\n        \"std\": 0,\n        \"min\": 1,\n        \"max\": 6,\n        \"num_unique_values\": 6,\n        \"samples\": [\n          2,\n          3,\n          6\n        ],\n        \"semantic_type\": \"\",\n        \"description\": \"\"\n      }\n    },\n    {\n      \"column\": \"sqft\",\n      \"properties\": {\n        \"dtype\": \"number\",\n        \"std\": 1299,\n        \"min\": 687,\n        \"max\": 7677,\n        \"num_unique_values\": 333,\n        \"samples\": [\n          1682,\n          1960,\n          687\n        ],\n        \"semantic_type\": \"\",\n        \"description\": \"\"\n      }\n    },\n    {\n      \"column\": \"year_built\",\n      \"properties\": {\n        \"dtype\": \"number\",\n        \"std\": 19,\n        \"min\": 1918,\n        \"max\": 2014,\n        \"num_unique_values\": 75,\n        \"samples\": [\n          1976,\n          1983,\n          1971\n        ],\n        \"semantic_type\": \"\",\n        \"description\": \"\"\n      }\n    },\n    {\n      \"column\": \"lot_size\",\n      \"properties\": {\n        \"dtype\": \"number\",\n        \"std\": 35999,\n        \"min\": 0,\n        \"max\": 435600,\n        \"num_unique_values\": 219,\n        \"samples\": [\n          1875,\n          435600,\n          62726\n        ],\n        \"semantic_type\": \"\",\n        \"description\": \"\"\n      }\n    },\n    {\n      \"column\": \"basement\",\n      \"properties\": {\n        \"dtype\": \"number\",\n        \"std\": 0,\n        \"min\": 0,\n        \"max\": 1,\n        \"num_unique_values\": 2,\n        \"samples\": [\n          0,\n          1\n        ],\n        \"semantic_type\": \"\",\n        \"description\": \"\"\n      }\n    },\n    {\n      \"column\": \"popular\",\n      \"properties\": {\n        \"dtype\": \"number\",\n        \"std\": 0,\n        \"min\": 0,\n        \"max\": 1,\n        \"num_unique_values\": 2,\n        \"samples\": [\n          0,\n          1\n        ],\n        \"semantic_type\": \"\",\n        \"description\": \"\"\n      }\n    },\n    {\n      \"column\": \"recession\",\n      \"properties\": {\n        \"dtype\": \"number\",\n        \"std\": 0,\n        \"min\": 0,\n        \"max\": 1,\n        \"num_unique_values\": 2,\n        \"samples\": [\n          0,\n          1\n        ],\n        \"semantic_type\": \"\",\n        \"description\": \"\"\n      }\n    },\n    {\n      \"column\": \"property_age\",\n      \"properties\": {\n        \"dtype\": \"number\",\n        \"std\": 20,\n        \"min\": 0,\n        \"max\": 94,\n        \"num_unique_values\": 73,\n        \"samples\": [\n          29,\n          38\n        ],\n        \"semantic_type\": \"\",\n        \"description\": \"\"\n      }\n    },\n    {\n      \"column\": \"property_type_Bunglow\",\n      \"properties\": {\n        \"dtype\": \"number\",\n        \"std\": 0,\n        \"min\": 0,\n        \"max\": 1,\n        \"num_unique_values\": 2,\n        \"samples\": [\n          0,\n          1\n        ],\n        \"semantic_type\": \"\",\n        \"description\": \"\"\n      }\n    },\n    {\n      \"column\": \"property_type_Condo\",\n      \"properties\": {\n        \"dtype\": \"number\",\n        \"std\": 0,\n        \"min\": 0,\n        \"max\": 1,\n        \"num_unique_values\": 2,\n        \"samples\": [\n          1,\n          0\n        ],\n        \"semantic_type\": \"\",\n        \"description\": \"\"\n      }\n    }\n  ]\n}",
       "type": "dataframe",
       "variable_name": "x_test"
      },
      "text/html": [
       "\n",
       "  <div id=\"df-52cbec08-ecb1-4aaa-b075-118fed54571f\" class=\"colab-df-container\">\n",
       "    <div>\n",
       "<style scoped>\n",
       "    .dataframe tbody tr th:only-of-type {\n",
       "        vertical-align: middle;\n",
       "    }\n",
       "\n",
       "    .dataframe tbody tr th {\n",
       "        vertical-align: top;\n",
       "    }\n",
       "\n",
       "    .dataframe thead th {\n",
       "        text-align: right;\n",
       "    }\n",
       "</style>\n",
       "<table border=\"1\" class=\"dataframe\">\n",
       "  <thead>\n",
       "    <tr style=\"text-align: right;\">\n",
       "      <th></th>\n",
       "      <th>year_sold</th>\n",
       "      <th>property_tax</th>\n",
       "      <th>insurance</th>\n",
       "      <th>beds</th>\n",
       "      <th>baths</th>\n",
       "      <th>sqft</th>\n",
       "      <th>year_built</th>\n",
       "      <th>lot_size</th>\n",
       "      <th>basement</th>\n",
       "      <th>popular</th>\n",
       "      <th>recession</th>\n",
       "      <th>property_age</th>\n",
       "      <th>property_type_Bunglow</th>\n",
       "      <th>property_type_Condo</th>\n",
       "    </tr>\n",
       "  </thead>\n",
       "  <tbody>\n",
       "    <tr>\n",
       "      <th>266</th>\n",
       "      <td>2013</td>\n",
       "      <td>503</td>\n",
       "      <td>167</td>\n",
       "      <td>2</td>\n",
       "      <td>2</td>\n",
       "      <td>1200</td>\n",
       "      <td>1940</td>\n",
       "      <td>2744</td>\n",
       "      <td>1</td>\n",
       "      <td>1</td>\n",
       "      <td>1</td>\n",
       "      <td>73</td>\n",
       "      <td>1</td>\n",
       "      <td>0</td>\n",
       "    </tr>\n",
       "  </tbody>\n",
       "</table>\n",
       "</div>\n",
       "    <div class=\"colab-df-buttons\">\n",
       "\n",
       "  <div class=\"colab-df-container\">\n",
       "    <button class=\"colab-df-convert\" onclick=\"convertToInteractive('df-52cbec08-ecb1-4aaa-b075-118fed54571f')\"\n",
       "            title=\"Convert this dataframe to an interactive table.\"\n",
       "            style=\"display:none;\">\n",
       "\n",
       "  <svg xmlns=\"http://www.w3.org/2000/svg\" height=\"24px\" viewBox=\"0 -960 960 960\">\n",
       "    <path d=\"M120-120v-720h720v720H120Zm60-500h600v-160H180v160Zm220 220h160v-160H400v160Zm0 220h160v-160H400v160ZM180-400h160v-160H180v160Zm440 0h160v-160H620v160ZM180-180h160v-160H180v160Zm440 0h160v-160H620v160Z\"/>\n",
       "  </svg>\n",
       "    </button>\n",
       "\n",
       "  <style>\n",
       "    .colab-df-container {\n",
       "      display:flex;\n",
       "      gap: 12px;\n",
       "    }\n",
       "\n",
       "    .colab-df-convert {\n",
       "      background-color: #E8F0FE;\n",
       "      border: none;\n",
       "      border-radius: 50%;\n",
       "      cursor: pointer;\n",
       "      display: none;\n",
       "      fill: #1967D2;\n",
       "      height: 32px;\n",
       "      padding: 0 0 0 0;\n",
       "      width: 32px;\n",
       "    }\n",
       "\n",
       "    .colab-df-convert:hover {\n",
       "      background-color: #E2EBFA;\n",
       "      box-shadow: 0px 1px 2px rgba(60, 64, 67, 0.3), 0px 1px 3px 1px rgba(60, 64, 67, 0.15);\n",
       "      fill: #174EA6;\n",
       "    }\n",
       "\n",
       "    .colab-df-buttons div {\n",
       "      margin-bottom: 4px;\n",
       "    }\n",
       "\n",
       "    [theme=dark] .colab-df-convert {\n",
       "      background-color: #3B4455;\n",
       "      fill: #D2E3FC;\n",
       "    }\n",
       "\n",
       "    [theme=dark] .colab-df-convert:hover {\n",
       "      background-color: #434B5C;\n",
       "      box-shadow: 0px 1px 3px 1px rgba(0, 0, 0, 0.15);\n",
       "      filter: drop-shadow(0px 1px 2px rgba(0, 0, 0, 0.3));\n",
       "      fill: #FFFFFF;\n",
       "    }\n",
       "  </style>\n",
       "\n",
       "    <script>\n",
       "      const buttonEl =\n",
       "        document.querySelector('#df-52cbec08-ecb1-4aaa-b075-118fed54571f button.colab-df-convert');\n",
       "      buttonEl.style.display =\n",
       "        google.colab.kernel.accessAllowed ? 'block' : 'none';\n",
       "\n",
       "      async function convertToInteractive(key) {\n",
       "        const element = document.querySelector('#df-52cbec08-ecb1-4aaa-b075-118fed54571f');\n",
       "        const dataTable =\n",
       "          await google.colab.kernel.invokeFunction('convertToInteractive',\n",
       "                                                    [key], {});\n",
       "        if (!dataTable) return;\n",
       "\n",
       "        const docLinkHtml = 'Like what you see? Visit the ' +\n",
       "          '<a target=\"_blank\" href=https://colab.research.google.com/notebooks/data_table.ipynb>data table notebook</a>'\n",
       "          + ' to learn more about interactive tables.';\n",
       "        element.innerHTML = '';\n",
       "        dataTable['output_type'] = 'display_data';\n",
       "        await google.colab.output.renderOutput(dataTable, element);\n",
       "        const docLink = document.createElement('div');\n",
       "        docLink.innerHTML = docLinkHtml;\n",
       "        element.appendChild(docLink);\n",
       "      }\n",
       "    </script>\n",
       "  </div>\n",
       "\n",
       "\n",
       "    </div>\n",
       "  </div>\n"
      ],
      "text/plain": [
       "     year_sold  property_tax  insurance  beds  baths  sqft  year_built  \\\n",
       "266       2013           503        167     2      2  1200        1940   \n",
       "\n",
       "     lot_size  basement  popular  recession  property_age  \\\n",
       "266      2744         1        1          1            73   \n",
       "\n",
       "     property_type_Bunglow  property_type_Condo  \n",
       "266                      1                    0  "
      ]
     },
     "execution_count": 41,
     "metadata": {},
     "output_type": "execute_result"
    }
   ],
   "source": [
    "x_test.head(1)"
   ]
  },
  {
   "cell_type": "code",
   "execution_count": null,
   "metadata": {
    "id": "kURtIelWgHi9"
   },
   "outputs": [],
   "source": []
  }
 ],
 "metadata": {
  "anaconda-cloud": {},
  "colab": {
   "provenance": []
  },
  "kernelspec": {
   "display_name": "Python [conda env:base] *",
   "language": "python",
   "name": "conda-base-py"
  },
  "language_info": {
   "codemirror_mode": {
    "name": "ipython",
    "version": 3
   },
   "file_extension": ".py",
   "mimetype": "text/x-python",
   "name": "python",
   "nbconvert_exporter": "python",
   "pygments_lexer": "ipython3",
   "version": "3.12.3"
  }
 },
 "nbformat": 4,
 "nbformat_minor": 4
}
